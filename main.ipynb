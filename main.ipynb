{
 "cells": [
  {
   "cell_type": "code",
   "execution_count": 2,
   "metadata": {},
   "outputs": [],
   "source": [
    "import numpy as np"
   ]
  },
  {
   "cell_type": "code",
   "execution_count": 365,
   "metadata": {},
   "outputs": [],
   "source": [
    "grid = np.array([[0,0,2,0,0,0,0,0,0],\n",
    "                 [0,0,0,0,0,1,9,7,0],\n",
    "                 [9,0,0,6,7,0,0,0,5],\n",
    "                 [0,9,8,0,0,4,1,0,0],\n",
    "                 [1,0,0,0,0,0,0,0,7],\n",
    "                 [0,0,3,1,0,0,4,2,0],\n",
    "                 [2,0,0,0,3,6,0,0,4],\n",
    "                 [0,3,6,8,0,0,0,0,0],\n",
    "                 [0,0,0,0,0,0,8,0,0]], dtype=int)"
   ]
  },
  {
   "cell_type": "code",
   "execution_count": null,
   "metadata": {},
   "outputs": [],
   "source": [
    "def not_on_line(val,grid, ligne):\n",
    "    if np.count_nonzero(grid[ligne] == val)==0:\n",
    "        return True\n",
    "    else:\n",
    "        return False"
   ]
  },
  {
   "cell_type": "code",
   "execution_count": 319,
   "metadata": {},
   "outputs": [],
   "source": [
    "def not_in_row(val,grid, col):\n",
    "    if np.count_nonzero(grid[:,col] == val)==0:\n",
    "        return True\n",
    "    else:\n",
    "        return False"
   ]
  },
  {
   "cell_type": "code",
   "execution_count": null,
   "metadata": {},
   "outputs": [],
   "source": [
    "def not_in_square(val, grid, ligne, col):\n",
    "    ligne = ligne-(ligne%3)\n",
    "    col = col-(col%3)\n",
    "    for ligne_c in range(ligne, ligne+3):\n",
    "        for col_c in range(col, col+3):\n",
    "            if (grid[ligne_c, col_c] == val):\n",
    "                return False\n",
    "    return True"
   ]
  },
  {
   "cell_type": "code",
   "execution_count": 352,
   "metadata": {},
   "outputs": [],
   "source": [
    "def is_valid(grid,pos): \n",
    " \n",
    "    if pos == 81:\n",
    "        return True\n",
    "    ligne = pos//9\n",
    "    col = pos%9\n",
    "\n",
    "    if (grid[ligne,col] != 0):\n",
    "        return is_valid(grid, pos+1)\n",
    "   \n",
    "    for k in range(1,10):\n",
    "        if (not_on_line(k,grid,ligne) & not_in_row(k,grid,col) & not_in_square(k,grid,ligne, col)):\n",
    "            grid[ligne,col] = k\n",
    "            if ( is_valid (grid, pos+1) ):\n",
    "                return True\n",
    "    grid[ligne,col] = 0\n",
    "\n",
    "    return False"
   ]
  },
  {
   "cell_type": "code",
   "execution_count": 366,
   "metadata": {},
   "outputs": [
    {
     "name": "stdout",
     "output_type": "stream",
     "text": [
      "[[0 0 2 0 0 0 0 0 0]\n",
      " [0 0 0 0 0 1 9 7 0]\n",
      " [9 0 0 6 7 0 0 0 5]\n",
      " [0 9 8 0 0 4 1 0 0]\n",
      " [1 0 0 0 0 0 0 0 7]\n",
      " [0 0 3 1 0 0 4 2 0]\n",
      " [2 0 0 0 3 6 0 0 4]\n",
      " [0 3 6 8 0 0 0 0 0]\n",
      " [0 0 0 0 0 0 8 0 0]]\n",
      "********************\n",
      "[[8 7 2 9 5 3 6 4 1]\n",
      " [3 6 5 2 4 1 9 7 8]\n",
      " [9 4 1 6 7 8 2 3 5]\n",
      " [7 9 8 3 2 4 1 5 6]\n",
      " [1 2 4 5 6 9 3 8 7]\n",
      " [6 5 3 1 8 7 4 2 9]\n",
      " [2 8 9 7 3 6 5 1 4]\n",
      " [4 3 6 8 1 5 7 9 2]\n",
      " [5 1 7 4 9 2 8 6 3]]\n"
     ]
    }
   ],
   "source": [
    "print(grid)\n",
    "print(\"*\"*20)\n",
    "is_valid(grid,0)\n",
    "print(grid)"
   ]
  },
  {
   "cell_type": "code",
   "execution_count": 359,
   "metadata": {},
   "outputs": [
    {
     "data": {
      "text/plain": [
       "array([[8, 7, 2, 9, 5, 3, 6, 4, 1],\n",
       "       [3, 6, 5, 2, 4, 1, 9, 7, 8],\n",
       "       [9, 4, 1, 6, 7, 8, 2, 3, 5],\n",
       "       [7, 9, 8, 3, 2, 4, 1, 5, 6],\n",
       "       [1, 2, 4, 5, 6, 9, 3, 8, 7],\n",
       "       [6, 5, 3, 1, 8, 7, 4, 2, 9],\n",
       "       [2, 8, 9, 7, 3, 6, 5, 1, 4],\n",
       "       [4, 3, 6, 8, 1, 5, 7, 9, 2],\n",
       "       [5, 1, 7, 4, 9, 2, 8, 6, 3]])"
      ]
     },
     "execution_count": 359,
     "metadata": {},
     "output_type": "execute_result"
    }
   ],
   "source": [
    "grid"
   ]
  },
  {
   "cell_type": "markdown",
   "metadata": {},
   "source": [
    "==========================================================================="
   ]
  },
  {
   "cell_type": "code",
   "execution_count": null,
   "metadata": {},
   "outputs": [],
   "source": [
    "def is_valid_old(l,c,val):     \n",
    "    #print(\"ligne \", l, \"col \", c, \"val \",val)\n",
    "    occurrences_lignes = np.count_nonzero(grid[l] == val)\n",
    "    occurrences_colonnes = np.count_nonzero(grid[:,c] == val)\n",
    "\n",
    "    occurrences_carre = 0\n",
    "    for ligne_square in range(0,3):\n",
    "        for col_square in range(0,3):\n",
    "            #print(l-l%3,c-c%3)\n",
    "            #print(l%3+ligne_square, c%3+col_square)\n",
    "            if grid[l-l%3+ligne_square,c-c%3+col_square]==val:\n",
    "                occurrences_carre+=1\n",
    "\n",
    "    if(occurrences_lignes>1 or occurrences_colonnes>1 or occurrences_carre>1):\n",
    "        return False\n",
    "    else:\n",
    "        return True\n",
    "            "
   ]
  },
  {
   "cell_type": "code",
   "execution_count": 107,
   "metadata": {},
   "outputs": [],
   "source": [
    "def get_possible_numbers(l,c):\n",
    "    val = []\n",
    "    for i in range(1,10):        \n",
    "        not_in_ligne = not (i in grid[l])\n",
    "        not_in_col =   not (i in grid[:,c])\n",
    "\n",
    "        not_in_square = True\n",
    "        for ligne_square in range(0,2):\n",
    "            for col_square in range(0,2):\n",
    "                if grid[l%3+ligne_square,c%3+col_square]==i:\n",
    "                    not_in_square= False\n",
    "\n",
    "        if(not_in_ligne  & not_in_col & not_in_square):\n",
    "            val.append(i)\n",
    "    cells.append([l,c,val])\n",
    "    return val\n",
    "        "
   ]
  },
  {
   "cell_type": "code",
   "execution_count": 116,
   "metadata": {},
   "outputs": [],
   "source": [
    "cells = []\n",
    "\n",
    "for ligne in range(0,9):\n",
    "    for colonne in range(0,9):\n",
    "        val = grid[ligne,colonne]\n",
    "        if val==0:\n",
    "            possibles = get_possible_numbers(ligne, colonne)\n",
    "            if len(possibles)==1:\n",
    "                print(ligne, colonne, possibles[0])\n",
    "                grid[ligne,colonne]=possibles[0]\n",
    "            "
   ]
  }
 ],
 "metadata": {
  "kernelspec": {
   "display_name": "base",
   "language": "python",
   "name": "python3"
  },
  "language_info": {
   "codemirror_mode": {
    "name": "ipython",
    "version": 3
   },
   "file_extension": ".py",
   "mimetype": "text/x-python",
   "name": "python",
   "nbconvert_exporter": "python",
   "pygments_lexer": "ipython3",
   "version": "3.12.4"
  }
 },
 "nbformat": 4,
 "nbformat_minor": 2
}
